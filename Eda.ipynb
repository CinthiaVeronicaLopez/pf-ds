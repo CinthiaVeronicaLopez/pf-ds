{
 "cells": [
  {
   "cell_type": "code",
   "execution_count": 6,
   "metadata": {},
   "outputs": [],
   "source": [
    "# Importacion de librerias\n",
    "import pandas as pd\n",
    "import numpy as np\n",
    "import json\n",
    "import re\n",
    "import gzip\n",
    "import ast\n",
    "import warnings\n",
    "from textblob import TextBlob\n",
    "warnings.filterwarnings('ignore')"
   ]
  },
  {
   "cell_type": "code",
   "execution_count": 35,
   "metadata": {},
   "outputs": [
    {
     "name": "stdout",
     "output_type": "stream",
     "text": [
      "Importando ...\n",
      "Termino la importación!!!\n"
     ]
    }
   ],
   "source": [
    "\n",
    "# Abre el archivo json y lee los datos\n",
    "rows = []\n",
    "print(f\"Importando ...\")\n",
    "with open('./assets/metadata_sites/8.json', 'r') as f:\n",
    "  for line in f.readlines():\n",
    "    # print(\"line\", line)\n",
    "    data = json.loads(line)\n",
    "    # convierte el JSON en un diccionario\n",
    "    data_dic = dict(data)\n",
    "    # print(\"data_dic\", data_dic)\n",
    "    rows.append(data_dic)\n",
    "print(f\"Termino la importación!!!\")            \n",
    "df_metadata = pd.DataFrame(rows)\n",
    "#df_metadata.to_csv('./assets/metadata.csv', index=False)"
   ]
  },
  {
   "cell_type": "code",
   "execution_count": 36,
   "metadata": {},
   "outputs": [
    {
     "name": "stdout",
     "output_type": "stream",
     "text": [
      "                         name  \\\n",
      "0             Porter Pharmacy   \n",
      "1         Discount Smoke Shop   \n",
      "2   Teppanyaki & Sushi Buffet   \n",
      "3  American Display & Fixture   \n",
      "4                   H&R Block   \n",
      "\n",
      "                                             address  \\\n",
      "0  Porter Pharmacy, 129 N Second St, Cochran, GA ...   \n",
      "1  Discount Smoke Shop, 4400 Woodson Rd, St. Loui...   \n",
      "2  Teppanyaki & Sushi Buffet, 6710 W Kellogg Dr, ...   \n",
      "3  American Display & Fixture, 3600 N Hawthorne S...   \n",
      "4    H&R Block, 3757 Belt Line Rd, Addison, TX 75001   \n",
      "\n",
      "                                 gmap_id  \\\n",
      "0  0x88f16e41928ff687:0x883dad4fd048e8f8   \n",
      "1  0x87df3418c268c2fd:0x22bc9dd6fc002c3e   \n",
      "2  0x87bae0c50d626c33:0xbfec787e2fc75206   \n",
      "3  0x886060672b860c57:0x8ce8aac55f240111   \n",
      "4  0x864c26c17b5fa467:0xe37e1efd993170b1   \n",
      "\n",
      "                                         description   latitude  longitude  \\\n",
      "0                                               None  32.388300 -83.357100   \n",
      "1  Discount retailer of cigarettes, cigars & othe...  38.729393 -90.356932   \n",
      "2  Restaurant featuring a buffet with sushi & oth...  37.674919 -97.420456   \n",
      "3                                               None  35.083761 -85.251825   \n",
      "4                                               None  32.953633 -96.853368   \n",
      "\n",
      "                                            category  avg_rating  \\\n",
      "0                                         [Pharmacy]         4.9   \n",
      "1  [Tobacco shop, Cigar shop, Lottery retailer, V...         4.4   \n",
      "2                     [Sushi restaurant, Restaurant]         3.6   \n",
      "3                  [Car factory, General contractor]         4.2   \n",
      "4          [Tax preparation service, Tax consultant]         3.9   \n",
      "\n",
      "   num_of_reviews price                                              hours  \\\n",
      "0              16  None  [[Friday, 8AM–6PM], [Saturday, 8AM–12PM], [Sun...   \n",
      "1              48  None  [[Friday, 7AM–8PM], [Saturday, 7AM–7PM], [Sund...   \n",
      "2            1694    $$  [[Friday, 11AM–8PM], [Saturday, 11AM–8PM], [Su...   \n",
      "3               8  None                                               None   \n",
      "4              48  None                                               None   \n",
      "\n",
      "                                                MISC                    state  \\\n",
      "0  {'Service options': ['In-store shopping', 'Sam...        Open ⋅ Closes 6PM   \n",
      "1  {'Service options': ['Same-day delivery'], 'Ac...       Permanently closed   \n",
      "2  {'Service options': ['Takeout', 'Dine-in', 'De...  Closed ⋅ Opens 11AM Sat   \n",
      "3  {'Accessibility': ['Wheelchair accessible entr...                     None   \n",
      "4  {'Service options': ['Online appointments'], '...                     None   \n",
      "\n",
      "                                    relative_results  \\\n",
      "0  [0x88f16e41929435cf:0x5b2532a2885e9ef6, 0x88f1...   \n",
      "1  [0x87df34956be9ce81:0xd16d24ce057d168b, 0x87df...   \n",
      "2  [0x87bae11b8f9db04d:0x310e8e8c5a4a3306, 0x87ba...   \n",
      "3  [0x88605e572a2cf8df:0x3e6534c112fe9e24, 0x8860...   \n",
      "4  [0x864c26de3a7d0c39:0xc703db0eaec98e60, 0x864c...   \n",
      "\n",
      "                                                 url  \n",
      "0  https://www.google.com/maps/place//data=!4m2!3...  \n",
      "1  https://www.google.com/maps/place//data=!4m2!3...  \n",
      "2  https://www.google.com/maps/place//data=!4m2!3...  \n",
      "3  https://www.google.com/maps/place//data=!4m2!3...  \n",
      "4  https://www.google.com/maps/place//data=!4m2!3...  \n"
     ]
    }
   ],
   "source": [
    "print(df_metadata.head())"
   ]
  },
  {
   "cell_type": "code",
   "execution_count": 37,
   "metadata": {},
   "outputs": [
    {
     "data": {
      "text/html": [
       "<div>\n",
       "<style scoped>\n",
       "    .dataframe tbody tr th:only-of-type {\n",
       "        vertical-align: middle;\n",
       "    }\n",
       "\n",
       "    .dataframe tbody tr th {\n",
       "        vertical-align: top;\n",
       "    }\n",
       "\n",
       "    .dataframe thead th {\n",
       "        text-align: right;\n",
       "    }\n",
       "</style>\n",
       "<table border=\"1\" class=\"dataframe\">\n",
       "  <thead>\n",
       "    <tr style=\"text-align: right;\">\n",
       "      <th></th>\n",
       "      <th>latitude</th>\n",
       "      <th>longitude</th>\n",
       "      <th>avg_rating</th>\n",
       "      <th>num_of_reviews</th>\n",
       "    </tr>\n",
       "  </thead>\n",
       "  <tbody>\n",
       "    <tr>\n",
       "      <th>count</th>\n",
       "      <td>275001.000000</td>\n",
       "      <td>275001.000000</td>\n",
       "      <td>275001.000000</td>\n",
       "      <td>275001.000000</td>\n",
       "    </tr>\n",
       "    <tr>\n",
       "      <th>mean</th>\n",
       "      <td>37.341146</td>\n",
       "      <td>-92.238039</td>\n",
       "      <td>4.305749</td>\n",
       "      <td>109.725888</td>\n",
       "    </tr>\n",
       "    <tr>\n",
       "      <th>std</th>\n",
       "      <td>5.427185</td>\n",
       "      <td>16.297844</td>\n",
       "      <td>0.661190</td>\n",
       "      <td>403.381540</td>\n",
       "    </tr>\n",
       "    <tr>\n",
       "      <th>min</th>\n",
       "      <td>-40.929308</td>\n",
       "      <td>-177.373493</td>\n",
       "      <td>1.000000</td>\n",
       "      <td>1.000000</td>\n",
       "    </tr>\n",
       "    <tr>\n",
       "      <th>25%</th>\n",
       "      <td>33.621095</td>\n",
       "      <td>-98.649895</td>\n",
       "      <td>4.000000</td>\n",
       "      <td>8.000000</td>\n",
       "    </tr>\n",
       "    <tr>\n",
       "      <th>50%</th>\n",
       "      <td>38.247463</td>\n",
       "      <td>-87.508577</td>\n",
       "      <td>4.500000</td>\n",
       "      <td>26.000000</td>\n",
       "    </tr>\n",
       "    <tr>\n",
       "      <th>75%</th>\n",
       "      <td>41.281926</td>\n",
       "      <td>-80.301179</td>\n",
       "      <td>4.800000</td>\n",
       "      <td>60.000000</td>\n",
       "    </tr>\n",
       "    <tr>\n",
       "      <th>max</th>\n",
       "      <td>70.133941</td>\n",
       "      <td>180.000000</td>\n",
       "      <td>5.000000</td>\n",
       "      <td>9998.000000</td>\n",
       "    </tr>\n",
       "  </tbody>\n",
       "</table>\n",
       "</div>"
      ],
      "text/plain": [
       "            latitude      longitude     avg_rating  num_of_reviews\n",
       "count  275001.000000  275001.000000  275001.000000   275001.000000\n",
       "mean       37.341146     -92.238039       4.305749      109.725888\n",
       "std         5.427185      16.297844       0.661190      403.381540\n",
       "min       -40.929308    -177.373493       1.000000        1.000000\n",
       "25%        33.621095     -98.649895       4.000000        8.000000\n",
       "50%        38.247463     -87.508577       4.500000       26.000000\n",
       "75%        41.281926     -80.301179       4.800000       60.000000\n",
       "max        70.133941     180.000000       5.000000     9998.000000"
      ]
     },
     "execution_count": 37,
     "metadata": {},
     "output_type": "execute_result"
    }
   ],
   "source": [
    "df_metadata.describe()"
   ]
  },
  {
   "cell_type": "code",
   "execution_count": 38,
   "metadata": {},
   "outputs": [
    {
     "name": "stdout",
     "output_type": "stream",
     "text": [
      "<class 'pandas.core.frame.DataFrame'>\n",
      "RangeIndex: 275001 entries, 0 to 275000\n",
      "Data columns (total 15 columns):\n",
      " #   Column            Non-Null Count   Dtype  \n",
      "---  ------            --------------   -----  \n",
      " 0   name              274998 non-null  object \n",
      " 1   address           269343 non-null  object \n",
      " 2   gmap_id           275001 non-null  object \n",
      " 3   description       35654 non-null   object \n",
      " 4   latitude          275001 non-null  float64\n",
      " 5   longitude         275001 non-null  float64\n",
      " 6   category          273864 non-null  object \n",
      " 7   avg_rating        275001 non-null  float64\n",
      " 8   num_of_reviews    275001 non-null  int64  \n",
      " 9   price             38052 non-null   object \n",
      " 10  hours             211785 non-null  object \n",
      " 11  MISC              223255 non-null  object \n",
      " 12  state             215364 non-null  object \n",
      " 13  relative_results  250182 non-null  object \n",
      " 14  url               275001 non-null  object \n",
      "dtypes: float64(3), int64(1), object(11)\n",
      "memory usage: 31.5+ MB\n"
     ]
    }
   ],
   "source": [
    "df_metadata.info()"
   ]
  },
  {
   "cell_type": "code",
   "execution_count": 39,
   "metadata": {},
   "outputs": [
    {
     "data": {
      "text/plain": [
       "name                     3\n",
       "address               5658\n",
       "gmap_id                  0\n",
       "description         239347\n",
       "latitude                 0\n",
       "longitude                0\n",
       "category              1137\n",
       "avg_rating               0\n",
       "num_of_reviews           0\n",
       "price               236949\n",
       "hours                63216\n",
       "MISC                 51746\n",
       "state                59637\n",
       "relative_results     24819\n",
       "url                      0\n",
       "dtype: int64"
      ]
     },
     "execution_count": 39,
     "metadata": {},
     "output_type": "execute_result"
    }
   ],
   "source": [
    "df_metadata.isnull().sum()"
   ]
  },
  {
   "cell_type": "code",
   "execution_count": null,
   "metadata": {},
   "outputs": [],
   "source": []
  }
 ],
 "metadata": {
  "kernelspec": {
   "display_name": "Python 3",
   "language": "python",
   "name": "python3"
  },
  "language_info": {
   "codemirror_mode": {
    "name": "ipython",
    "version": 3
   },
   "file_extension": ".py",
   "mimetype": "text/x-python",
   "name": "python",
   "nbconvert_exporter": "python",
   "pygments_lexer": "ipython3",
   "version": "3.10.0"
  }
 },
 "nbformat": 4,
 "nbformat_minor": 2
}
